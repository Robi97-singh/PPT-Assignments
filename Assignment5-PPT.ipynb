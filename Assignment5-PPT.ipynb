{
  "nbformat": 4,
  "nbformat_minor": 0,
  "metadata": {
    "colab": {
      "provenance": []
    },
    "kernelspec": {
      "name": "python3",
      "display_name": "Python 3"
    },
    "language_info": {
      "name": "python"
    }
  },
  "cells": [
    {
      "cell_type": "code",
      "execution_count": 10,
      "metadata": {
        "colab": {
          "base_uri": "https://localhost:8080/"
        },
        "id": "JiSsWs3GvzvQ",
        "outputId": "297e2268-5c3b-4b78-fcb3-139ab07bcdd8"
      },
      "outputs": [
        {
          "output_type": "stream",
          "name": "stdout",
          "text": [
            "[[1, 2], [3, 4]]\n"
          ]
        }
      ],
      "source": [
        "# Solution to Queston 1.\n",
        "\n",
        "def convert_to_2d(original, m, n):\n",
        "    if m * n != len(original):\n",
        "        return None  # Invalid dimensions\n",
        "\n",
        "    result = []\n",
        "    for i in range(m):\n",
        "        row = original[i * n:(i + 1) * n]\n",
        "        result.append(row)\n",
        "\n",
        "    return result\n",
        "original = [1, 2, 3, 4]\n",
        "m = 2\n",
        "n = 2\n",
        "\n",
        "result = convert_to_2d(original, m, n)\n",
        "print(result)"
      ]
    },
    {
      "cell_type": "code",
      "source": [
        "# Solution to Queston 2.\n",
        "\n",
        "def complete_rows(n):\n",
        "    k = 0  # Number of complete rows\n",
        "    while n >= k + 1:\n",
        "        k += 1\n",
        "        n -= k\n",
        "    return k\n",
        "n = 5\n",
        "result = complete_rows(n)\n",
        "print(result)"
      ],
      "metadata": {
        "colab": {
          "base_uri": "https://localhost:8080/"
        },
        "id": "_nud3kaBv-ap",
        "outputId": "68c8b50c-5e2d-446e-85ea-6cfd7413a3dd"
      },
      "execution_count": 2,
      "outputs": [
        {
          "output_type": "stream",
          "name": "stdout",
          "text": [
            "2\n"
          ]
        }
      ]
    },
    {
      "cell_type": "code",
      "source": [
        "# Solution to Queston 3.\n",
        "\n",
        "def sorted_squares(nums):\n",
        "    return sorted(num * num for num in nums)\n",
        "nums = [-4, -1, 0, 3, 10]\n",
        "result = sorted_squares(nums)\n",
        "print(result)"
      ],
      "metadata": {
        "colab": {
          "base_uri": "https://localhost:8080/"
        },
        "id": "opjtSELDv-eI",
        "outputId": "1c9fb919-77dd-4041-9e69-a1ca9ee6a65c"
      },
      "execution_count": 3,
      "outputs": [
        {
          "output_type": "stream",
          "name": "stdout",
          "text": [
            "[0, 1, 9, 16, 100]\n"
          ]
        }
      ]
    },
    {
      "cell_type": "code",
      "source": [
        "# Solution to Queston 4.\n",
        "\n",
        "def find_disinct_elements(nums1, nums2):\n",
        "    set1 = set(nums1)\n",
        "    set2 = set(nums2)\n",
        "\n",
        "    distinct_nums1 = list(set1 - set2)\n",
        "    distinct_nums2 = list(set2 - set1)\n",
        "\n",
        "    return [distinct_nums1, distinct_nums2]\n",
        "nums1 = [1, 2, 3]\n",
        "nums2 = [2, 4, 6]\n",
        "\n",
        "result = find_disinct_elements(nums1, nums2)\n",
        "print(result)"
      ],
      "metadata": {
        "colab": {
          "base_uri": "https://localhost:8080/"
        },
        "id": "51DwBKwpv-h0",
        "outputId": "4ee83202-05c5-4aaa-8ce6-87beb49de7be"
      },
      "execution_count": 4,
      "outputs": [
        {
          "output_type": "stream",
          "name": "stdout",
          "text": [
            "[[1, 3], [4, 6]]\n"
          ]
        }
      ]
    },
    {
      "cell_type": "code",
      "source": [
        "# Solution to Queston 5.\n",
        "\n",
        "def distance_value(arr1, arr2, d):\n",
        "    distance = 0\n",
        "\n",
        "    for num1 in arr1:\n",
        "        for num2 in arr2:\n",
        "            if abs(num1 - num2) <= d:\n",
        "                break\n",
        "        else:\n",
        "            distance += 1\n",
        "\n",
        "    return distance\n",
        "arr1 = [4, 5, 8]\n",
        "arr2 = [10, 9, 1, 8]\n",
        "d = 2\n",
        "\n",
        "result = distance_value(arr1, arr2, d)\n",
        "print(result)"
      ],
      "metadata": {
        "colab": {
          "base_uri": "https://localhost:8080/"
        },
        "id": "F2J8OE7Dv-ki",
        "outputId": "7a4c6e33-cb08-4f38-fdd5-34841cc5e0a2"
      },
      "execution_count": 5,
      "outputs": [
        {
          "output_type": "stream",
          "name": "stdout",
          "text": [
            "2\n"
          ]
        }
      ]
    },
    {
      "cell_type": "code",
      "source": [
        "# Solution to Queston 6.\n",
        "\n",
        "def find_duplicates(nums):\n",
        "    duplicates = []\n",
        "\n",
        "    for num in nums:\n",
        "        index = abs(num) - 1  # Convert the number to its index\n",
        "\n",
        "        if nums[index] < 0:\n",
        "            duplicates.append(abs(num))\n",
        "        else:\n",
        "            nums[index] = -nums[index]\n",
        "\n",
        "    return duplicates\n",
        "nums = [4, 3, 2, 7, 8, 2, 3, 1]\n",
        "result = find_duplicates(nums)\n",
        "print(result)"
      ],
      "metadata": {
        "colab": {
          "base_uri": "https://localhost:8080/"
        },
        "id": "UIrjT0KRv-nI",
        "outputId": "62bf7f8c-ced0-4a2f-94bd-ce9409f7d703"
      },
      "execution_count": 7,
      "outputs": [
        {
          "output_type": "stream",
          "name": "stdout",
          "text": [
            "[2, 3]\n"
          ]
        }
      ]
    },
    {
      "cell_type": "code",
      "source": [
        "# Solution to Queston 7.\n",
        "\n",
        "def find_min(nums):\n",
        "    left = 0\n",
        "    right = len(nums) - 1\n",
        "\n",
        "    while left < right:\n",
        "        mid = left + (right - left) // 2\n",
        "\n",
        "        if nums[mid] > nums[right]:\n",
        "            left = mid + 1\n",
        "        else:\n",
        "            right = mid\n",
        "\n",
        "    return nums[left]\n",
        "nums = [3, 4, 5, 1, 2]\n",
        "result = find_min(nums)\n",
        "print(result)"
      ],
      "metadata": {
        "colab": {
          "base_uri": "https://localhost:8080/"
        },
        "id": "sT5fYYhlv-pl",
        "outputId": "f6234e5e-b191-4f2f-bb98-88a5a0e04fcc"
      },
      "execution_count": 8,
      "outputs": [
        {
          "output_type": "stream",
          "name": "stdout",
          "text": [
            "1\n"
          ]
        }
      ]
    },
    {
      "cell_type": "code",
      "source": [
        "# Solution to Queston 8.\n",
        "\n",
        "def find_original_array(changed):\n",
        "    original = []\n",
        "    counts = {}\n",
        "\n",
        "    for num in changed:\n",
        "        counts[num] = counts.get(num, 0) + 1\n",
        "\n",
        "    for num in changed:\n",
        "        if counts.get(num, 0) == 0:\n",
        "            continue\n",
        "\n",
        "        counts[num] -= 1\n",
        "        double = num * 2\n",
        "\n",
        "        if counts.get(double, 0) == 0:\n",
        "            return []\n",
        "\n",
        "        counts[double] -= 1\n",
        "        original.append(num)\n",
        "\n",
        "    return original\n",
        "changed = [1, 3, 4, 2, 6, 8]\n",
        "result = find_original_array(changed)\n",
        "print(result)"
      ],
      "metadata": {
        "colab": {
          "base_uri": "https://localhost:8080/"
        },
        "id": "5nmVBGAhv-s_",
        "outputId": "033cb3f6-04e2-4d16-b2d3-7c7b5ca8bf2d"
      },
      "execution_count": 9,
      "outputs": [
        {
          "output_type": "stream",
          "name": "stdout",
          "text": [
            "[1, 3, 4]\n"
          ]
        }
      ]
    }
  ]
}