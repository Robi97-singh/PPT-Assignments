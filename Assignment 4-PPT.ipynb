{
  "nbformat": 4,
  "nbformat_minor": 0,
  "metadata": {
    "colab": {
      "provenance": []
    },
    "kernelspec": {
      "name": "python3",
      "display_name": "Python 3"
    },
    "language_info": {
      "name": "python"
    }
  },
  "cells": [
    {
      "cell_type": "code",
      "execution_count": 15,
      "metadata": {
        "colab": {
          "base_uri": "https://localhost:8080/"
        },
        "id": "uuthKTqStkKD",
        "outputId": "8f44867a-25c7-4ced-d13c-1f52731d1dcf"
      },
      "outputs": [
        {
          "output_type": "stream",
          "name": "stdout",
          "text": [
            "[1, 5]\n"
          ]
        }
      ],
      "source": [
        "'''Question 1\n",
        "Given three integer arrays arr1, arr2 and arr3 **sorted** in **strictly increasing** order, return a sorted array of **only** the integers that appeared in **all** three arrays.\n",
        "\n",
        "**Example 1:**\n",
        "\n",
        "Input: arr1 = [1,2,3,4,5], arr2 = [1,2,5,7,9], arr3 = [1,3,4,5,8]\n",
        "\n",
        "Output: [1,5]\n",
        "\n",
        "**Explanation:** Only 1 and 5 appeared in the three arrays.'''\n",
        "\n",
        "#Solution\n",
        "\n",
        "def find_CommonElements(arr1, arr2, arr3):\n",
        "    n1, n2, n3 = len(arr1), len(arr2), len(arr3)\n",
        "    i, j, k = 0, 0, 0\n",
        "    result = []\n",
        "\n",
        "    while i < n1 and j < n2 and k < n3:\n",
        "        if arr1[i] == arr2[j] == arr3[k]:\n",
        "            result.append(arr1[i])\n",
        "            i += 1\n",
        "            j += 1\n",
        "            k += 1\n",
        "        elif arr1[i] < arr2[j]:\n",
        "            i += 1\n",
        "        elif arr2[j] < arr3[k]:\n",
        "            j += 1\n",
        "        else:\n",
        "            k += 1\n",
        "\n",
        "    return result\n",
        "arr1 = [1,2,3,4,5]\n",
        "arr2 = [1,2,5,7,9]\n",
        "arr3 = [1,3,4,5,8]\n",
        "print(find_CommonElements(arr1, arr2, arr3))"
      ]
    },
    {
      "cell_type": "code",
      "source": [
        "'''Question 2**\n",
        "\n",
        "Given two **0-indexed** integer arrays nums1 and nums2, return *a list* answer *of size* 2 *where:*\n",
        "\n",
        "- answer[0] *is a list of all **distinct** integers in* nums1 *which are **not** present in* nums2*.*\n",
        "- answer[1] *is a list of all **distinct** integers in* nums2 *which are **not** present in* nums1.\n",
        "\n",
        "**Note** that the integers in the lists may be returned in **any** order.\n",
        "\n",
        "**Example 1:**\n",
        "\n",
        "**Input:** nums1 = [1,2,3], nums2 = [2,4,6]\n",
        "\n",
        "**Output:** [[1,3],[4,6]]\n",
        "\n",
        "**Explanation:**\n",
        "\n",
        "For nums1, nums1[1] = 2 is present at index 0 of nums2, whereas nums1[0] = 1 and nums1[2] = 3 are not present in nums2. Therefore, answer[0] = [1,3].\n",
        "\n",
        "For nums2, nums2[0] = 2 is present at index 1 of nums1, whereas nums2[1] = 4 and nums2[2] = 6 are not present in nums2. Therefore, answer[1] = [4,6].'''\n",
        "\n",
        "#Solution\n",
        "\n",
        "def find_Disjoint(nums1, nums2):\n",
        "    set1 = set(nums1)\n",
        "    set2 = set(nums2)\n",
        "    distinct_nums1 = list(set1 - set2)\n",
        "    distinct_nums2 = list(set2 - set1)\n",
        "    return [distinct_nums1, distinct_nums2]\n",
        "nums1 = [1, 2, 3]\n",
        "nums2 = [2, 4, 6]\n",
        "print(find_Disjoint(nums1, nums2))"
      ],
      "metadata": {
        "colab": {
          "base_uri": "https://localhost:8080/"
        },
        "id": "d0DrVXzrtwdh",
        "outputId": "fc99f96b-c34d-4b0f-dd4c-e6ec39e13876"
      },
      "execution_count": 14,
      "outputs": [
        {
          "output_type": "stream",
          "name": "stdout",
          "text": [
            "[[1, 3], [4, 6]]\n"
          ]
        }
      ]
    },
    {
      "cell_type": "code",
      "source": [
        "'''Question 3.\n",
        "Given a 2D integer array matrix, return *the **transpose** of* matrix.\n",
        "\n",
        "The **transpose** of a matrix is the matrix flipped over its main diagonal, switching the matrix's row and column indices.\n",
        "\n",
        "**Example 1:**\n",
        "\n",
        "Input: matrix = [[1,2,3],[4,5,6],[7,8,9]]\n",
        "\n",
        "Output: [[1,4,7],[2,5,8],[3,6,9]]'''\n",
        "\n",
        "#Solution\n",
        "\n",
        "def transpose_Matrix(matrix):\n",
        "    n = len(matrix)\n",
        "    m = len(matrix[0])\n",
        "    transpose = [[0] * n for _ in range(m)]\n",
        "\n",
        "    for i in range(n):\n",
        "        for j in range(m):\n",
        "            transpose[j][i] = matrix[i][j]\n",
        "\n",
        "    return transpose\n",
        "matrix = [[1, 2, 3], [4, 5, 6], [7, 8, 9]]\n",
        "print(transpose_Matrix(matrix))"
      ],
      "metadata": {
        "colab": {
          "base_uri": "https://localhost:8080/"
        },
        "id": "Htmgw9KatwY3",
        "outputId": "b9e63769-59be-4803-9600-c525fffb4580"
      },
      "execution_count": 13,
      "outputs": [
        {
          "output_type": "stream",
          "name": "stdout",
          "text": [
            "[[1, 4, 7], [2, 5, 8], [3, 6, 9]]\n"
          ]
        }
      ]
    },
    {
      "cell_type": "code",
      "source": [
        "''' Question 4 Given an integer array nums of 2n integers, group these integers into n pairs (a1, b1), (a2, b2), ...,\n",
        "(an, bn) such that the sum of min(ai, bi) for all i is maximized. Return the maximized sum.\n",
        "Example 1:Input: nums = [1,4,3,2]\n",
        "Output: 4'''\n",
        "\n",
        "#Solution\n",
        "def array_PairSum(nums):\n",
        "    nums.sort()  # Sort the array in ascending order\n",
        "    max_sum = 0\n",
        "\n",
        "    for i in range(0, len(nums), 2):\n",
        "        max_sum += nums[i]\n",
        "\n",
        "    return max_sum\n",
        "nums = [1, 4, 3, 2]\n",
        "print(array_PairSum(nums))\n"
      ],
      "metadata": {
        "colab": {
          "base_uri": "https://localhost:8080/"
        },
        "id": "RDUwzgKptwWp",
        "outputId": "58a60502-f083-48ac-b849-1c919e193875"
      },
      "execution_count": 12,
      "outputs": [
        {
          "output_type": "stream",
          "name": "stdout",
          "text": [
            "4\n"
          ]
        }
      ]
    },
    {
      "cell_type": "code",
      "source": [
        "'''**Question 5**\n",
        "You have n coins and you want to build a staircase with these coins. The staircase consists of k rows where the ith row has exactly i coins. The last row of the staircase **may be** incomplete.\n",
        "\n",
        "Given the integer n, return *the number of **complete rows** of the staircase you will build*.\n",
        "\n",
        "**Example 1:**\n",
        "\n",
        "**Input:** n = 5\n",
        "\n",
        "**Output:** 2\n",
        "\n",
        "**Explanation:** Because the 3rd row is incomplete, we return 2.\n",
        "\n",
        "</aside> **Input:** n = 5\n",
        "\n",
        "**Output:** 2'''\n",
        "\n",
        "#Solution\n",
        "\n",
        "def arrange_Coins(n):\n",
        "    k = 0\n",
        "\n",
        "    while k * (k + 1) // 2 <= n:\n",
        "        k += 1\n",
        "\n",
        "    return k - 1\n",
        "n = 5\n",
        "print(arrange_Coins(n))\n"
      ],
      "metadata": {
        "colab": {
          "base_uri": "https://localhost:8080/"
        },
        "id": "-9G5jC-XtwUZ",
        "outputId": "e45aed27-4ae4-440a-cdf9-2e2e31303be6"
      },
      "execution_count": 11,
      "outputs": [
        {
          "output_type": "stream",
          "name": "stdout",
          "text": [
            "2\n"
          ]
        }
      ]
    },
    {
      "cell_type": "code",
      "source": [
        "'''**Question 6**\n",
        "Given an integer array nums sorted in **non-decreasing** order, return *an array of **the squares of each number** sorted in non-decreasing order*.\n",
        "\n",
        "**Example 1:**\n",
        "\n",
        "Input: nums = [-4,-1,0,3,10]\n",
        "\n",
        "Output: [0,1,9,16,100]\n",
        "\n",
        "**Explanation:** After squaring, the array becomes [16,1,0,9,100].\n",
        "After sorting, it becomes [0,1,9,16,100]'''\n",
        "\n",
        "#Solution\n",
        "\n",
        "def sorted_Squares(nums):\n",
        "    result = []\n",
        "\n",
        "    for num in nums:\n",
        "        result.append(num * num)\n",
        "\n",
        "    result.sort()\n",
        "\n",
        "    return result\n",
        "nums = [-4, -1, 0, 3, 10]\n",
        "print(sorted_Squares(nums))\n"
      ],
      "metadata": {
        "colab": {
          "base_uri": "https://localhost:8080/"
        },
        "id": "PktdkTJLtwSH",
        "outputId": "ac336588-9b64-40b9-b6ca-32deb398e48e"
      },
      "execution_count": 10,
      "outputs": [
        {
          "output_type": "stream",
          "name": "stdout",
          "text": [
            "[0, 1, 9, 16, 100]\n"
          ]
        }
      ]
    },
    {
      "cell_type": "code",
      "source": [
        "'''**Question 7**\n",
        "You are given an m x n matrix M initialized with all 0's and an array of operations ops, where ops[i] = [ai, bi] means M[x][y] should be incremented by one for all 0 <= x < ai and 0 <= y < bi.\n",
        "\n",
        "Count and return *the number of maximum integers in the matrix after performing all the operations*\n",
        "\n",
        "**Example 1:**\n",
        "\n",
        "**Input:** m = 3, n = 3, ops = [[2,2],[3,3]]\n",
        "\n",
        "**Output:** 4\n",
        "\n",
        "**Explanation:** The maximum integer in M is 2, and there are four of it in M. So return 4.'''\n",
        "\n",
        "#Solution\n",
        "\n",
        "def max_Count(m, n, ops):\n",
        "    min_row = m\n",
        "    min_col = n\n",
        "\n",
        "    for op in ops:\n",
        "        min_row = min(min_row, op[0])\n",
        "        min_col = min(min_col, op[1])\n",
        "\n",
        "    return min_row * min_col\n",
        "m = 3\n",
        "n = 3\n",
        "ops = [[2, 2], [3, 3]]\n",
        "print(max_Count(m, n, ops))"
      ],
      "metadata": {
        "colab": {
          "base_uri": "https://localhost:8080/"
        },
        "id": "9dAzFIHRtwQH",
        "outputId": "3dff092c-50aa-40ca-f0da-c916d372e122"
      },
      "execution_count": 9,
      "outputs": [
        {
          "output_type": "stream",
          "name": "stdout",
          "text": [
            "4\n"
          ]
        }
      ]
    },
    {
      "cell_type": "code",
      "source": [
        "''' **Question 8**\n",
        "\n",
        "Given the array nums consisting of 2n elements in the form [x1,x2,...,xn,y1,y2,...,yn].\n",
        "\n",
        "*Return the array in the form* [x1,y1,x2,y2,...,xn,yn].\n",
        "\n",
        "**Example 1:**\n",
        "\n",
        "**Input:** nums = [2,5,1,3,4,7], n = 3\n",
        "\n",
        "**Output:** [2,3,5,4,1,7]\n",
        "\n",
        "**Explanation:** Since x1=2, x2=5, x3=1, y1=3, y2=4, y3=7 then the answer is [2,3,5,4,1,7].'''\n",
        "\n",
        "#Solution\n",
        "\n",
        "def shuffle(nums, n):\n",
        "    result = []\n",
        "    p1 = 0\n",
        "    p2 = n\n",
        "\n",
        "    for _ in range(n):\n",
        "        result.append(nums[p1])\n",
        "        result.append(nums[p2])\n",
        "        p1 += 1\n",
        "        p2 += 1\n",
        "\n",
        "    return result\n",
        "nums = [2, 5, 1, 3, 4, 7]\n",
        "n = 3\n",
        "print(shuffle(nums, n))\n"
      ],
      "metadata": {
        "colab": {
          "base_uri": "https://localhost:8080/"
        },
        "id": "5GEODgLVtwNp",
        "outputId": "ac36be31-60be-4583-d0d8-5082177317e9"
      },
      "execution_count": 8,
      "outputs": [
        {
          "output_type": "stream",
          "name": "stdout",
          "text": [
            "[2, 3, 5, 4, 1, 7]\n"
          ]
        }
      ]
    }
  ]
}