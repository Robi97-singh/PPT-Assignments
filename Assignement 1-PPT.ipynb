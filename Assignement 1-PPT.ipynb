{
 "cells": [
  {
   "cell_type": "code",
   "execution_count": 20,
   "id": "211a62ab-cef5-424d-9d15-efc5b901350f",
   "metadata": {},
   "outputs": [
    {
     "name": "stdout",
     "output_type": "stream",
     "text": [
      "[0, 1]\n"
     ]
    }
   ],
   "source": [
    "'''Q1.Given an array of integers nums and an integer target, return indices of the two numbers such that they add up to target.\n",
    "\n",
    "You may assume that each input would have exactly one solution, and you may not use the same element twice.\n",
    "\n",
    "You can return the answer in any order.\n",
    "\n",
    "**Example:**\n",
    "Input: nums = [2,7,11,15], target = 9\n",
    "Output0 [0,1]\n",
    "\n",
    "**Explanation:** Because nums[0] + nums[1] == 9, we return [0, 1].\n",
    "\n",
    "</aside>'''\n",
    "\n",
    "\n",
    "def two_Sums(nums, target):\n",
    "    dictionary = {}\n",
    "    for index, num in enumerate(nums):\n",
    "        complement = target - num\n",
    "        if complement in dictionary:\n",
    "            return [dictionary[complement], index]\n",
    "        dictionary[num] = index\n",
    "    return []  \n",
    "\n",
    "nums = [2, 7, 11, 15]\n",
    "target = 9\n",
    "result = two_Sums(nums, target)\n",
    "print(result) "
   ]
  },
  {
   "cell_type": "code",
   "execution_count": 11,
   "id": "69a28492-0329-4cf5-91e0-70c934e3dbd6",
   "metadata": {},
   "outputs": [
    {
     "name": "stdout",
     "output_type": "stream",
     "text": [
      "2\n",
      "[2, 2, 2, 3]\n"
     ]
    }
   ],
   "source": [
    "'''Q2 Given an integer array nums and an integer val, remove all occurrences of val in nums in-place. The order of the elements may be changed. Then return the number of elements in nums which are not equal to val.\n",
    "\n",
    "Consider the number of elements in nums which are not equal to val be k, to get accepted, you need to do the following things:\n",
    "\n",
    "- Change the array nums such that the first k elements of nums contain the elements which are not equal to val. The remaining elements of nums are not important as well as the size of nums.\n",
    "- Return k.\n",
    "\n",
    "**Example :**\n",
    "Input: nums = [3,2,2,3], val = 3\n",
    "Output: 2, nums = [2,2,_*,_*]'''\n",
    "\n",
    "#solution\n",
    "def remove_var(nums, value):\n",
    "    j = 0\n",
    "    for i in range(len(nums)):\n",
    "        if nums[i] != value:\n",
    "            nums[j] = nums[i]\n",
    "            j += 1\n",
    "    return j\n",
    "\n",
    "# Exam\n",
    "nums = [3, 2, 2, 3]\n",
    "value = 3\n",
    "count = remove_var(nums, value)\n",
    "print(count)  # Output: 2\n",
    "print(nums)   # Output: [2, 2, _, _] (where _ represents any value)\n"
   ]
  },
  {
   "cell_type": "code",
   "execution_count": 12,
   "id": "c3ad1342-7682-4690-a1b4-c00db6b6761d",
   "metadata": {},
   "outputs": [
    {
     "name": "stdout",
     "output_type": "stream",
     "text": [
      "2\n"
     ]
    }
   ],
   "source": [
    "'''Q3. Given a sorted array of distinct integers and a target value, return the index if the target is found. If not, return the index where it would be if it were inserted in order.\n",
    "\n",
    "You must write an algorithm with O(log n) runtime complexity.\n",
    "\n",
    "**Example 1:**\n",
    "Input: nums = [1,3,5,6], target = 5'''\n",
    "\n",
    "#Solution\n",
    "\n",
    "def search_Insert(nums, target):\n",
    "    left = 0\n",
    "    right = len(nums) - 1\n",
    "\n",
    "    while left <= right:\n",
    "        mid = (left + right) // 2\n",
    "\n",
    "        if nums[mid] == target:\n",
    "            return mid\n",
    "        elif nums[mid] < target:\n",
    "            left = mid + 1\n",
    "        else:\n",
    "            right = mid - 1\n",
    "\n",
    "    return left\n",
    "\n",
    "# Example usage\n",
    "nums = [1, 3, 5, 6]\n",
    "target = 5\n",
    "index = search_Insert(nums, target)\n",
    "print(index)  # Output: 2\n"
   ]
  },
  {
   "cell_type": "code",
   "execution_count": 13,
   "id": "8c1cd12f-2290-4f4c-89e4-9639c1fad1e1",
   "metadata": {},
   "outputs": [
    {
     "name": "stdout",
     "output_type": "stream",
     "text": [
      "[1, 2, 4]\n"
     ]
    }
   ],
   "source": [
    "'''Q4. You are given a large integer represented as an integer array digits, where each digits[i] is the ith digit of the integer. The digits are ordered from most significant to least significant in left-to-right order. The large integer does not contain any leading 0's.\n",
    "\n",
    "Increment the large integer by one and return the resulting array of digits.\n",
    "\n",
    "**Example 1:**\n",
    "Input: digits = [1,2,3]\n",
    "Output: [1,2,4]\n",
    "\n",
    "**Explanation:** The array represents the integer 123.\n",
    "\n",
    "Incrementing by one gives 123 + 1 = 124.\n",
    "Thus, the result should be [1,2,4].'''\n",
    "\n",
    "\n",
    "#Solution\n",
    "\n",
    "def plus(digits):\n",
    "    carry = 1\n",
    "\n",
    "    for i in range(len(digits) - 1, -1, -1):\n",
    "        digits[i] += carry\n",
    "        if digits[i] < 10:\n",
    "            carry = 0\n",
    "            break\n",
    "        digits[i] %= 10\n",
    "\n",
    "    if carry == 1:\n",
    "        digits.insert(0, 1)\n",
    "\n",
    "    return digits\n",
    "\n",
    "# Example usage\n",
    "digits = [1, 2, 3]\n",
    "result = plus(digits)\n",
    "print(result)  # Output: [1, 2, 4]\n"
   ]
  },
  {
   "cell_type": "code",
   "execution_count": 14,
   "id": "a62fb44e-43b1-4d8f-95df-7f635b43507d",
   "metadata": {},
   "outputs": [
    {
     "name": "stdout",
     "output_type": "stream",
     "text": [
      "[1, 2, 2, 3, 5, 6]\n"
     ]
    }
   ],
   "source": [
    "'''Q5.You are given two integer arrays nums1 and nums2, sorted in non-decreasing order, and two integers m and n, representing the number of elements in nums1 and nums2 respectively.\n",
    "\n",
    "Merge nums1 and nums2 into a single array sorted in non-decreasing order.\n",
    "\n",
    "The final sorted array should not be returned by the function, but instead be stored inside the array nums1. To accommodate this, nums1 has a length of m + n, where the first m elements denote the elements that should be merged, and the last n elements are set to 0 and should be ignored. nums2 has a length of n.\n",
    "\n",
    "**Example 1:**\n",
    "Input: nums1 = [1,2,3,0,0,0], m = 3, nums2 = [2,5,6], n = 3\n",
    "Output: [1,2,2,3,5,6]\n",
    "\n",
    "**Explanation:** The arrays we are merging are [1,2,3] and [2,5,6].\n",
    "The result of the merge is [1,2,2,3,5,6] with the underlined elements coming from nums1.'''\n",
    "\n",
    "\n",
    "#Solution\n",
    "\n",
    "def merge_elements(nums1, m, nums2, n):\n",
    "    p1 = m - 1\n",
    "    p2 = n - 1\n",
    "    p = m + n - 1\n",
    "\n",
    "    while p1 >= 0 and p2 >= 0:\n",
    "        if nums1[p1] >= nums2[p2]:\n",
    "            nums1[p] = nums1[p1]\n",
    "            p1 -= 1\n",
    "        else:\n",
    "            nums1[p] = nums2[p2]\n",
    "            p2 -= 1\n",
    "        p -= 1\n",
    "\n",
    "    if p2 >= 0:\n",
    "        nums1[:p2 + 1] = nums2[:p2 + 1]\n",
    "\n",
    "    return nums1\n",
    "\n",
    "# Example usage\n",
    "nums1 = [1, 2, 3, 0, 0, 0]\n",
    "m = 3\n",
    "nums2 = [2, 5, 6]\n",
    "n = 3\n",
    "result = merge_elements(nums1, m, nums2, n)\n",
    "print(result)  # Output: [1, 2, 2, 3, 5, 6]\n"
   ]
  },
  {
   "cell_type": "code",
   "execution_count": 15,
   "id": "0ef32bce-9df5-41f5-a9d2-fb0e94561ec2",
   "metadata": {},
   "outputs": [
    {
     "name": "stdout",
     "output_type": "stream",
     "text": [
      "True\n"
     ]
    }
   ],
   "source": [
    "'''Q6. Given an integer array nums, return true if any value appears at least twice in the array, and return false if every element is distinct. \n",
    "    **Example 1:**\n",
    "    Input: nums = [1,2,3,1]\n",
    "    Output: true'''\n",
    "\n",
    "#Solution\n",
    "\n",
    "def Duplicate(nums):\n",
    "    seen = set()\n",
    "    for num in nums:\n",
    "        if num in seen:\n",
    "            return True\n",
    "        seen.add(num)\n",
    "    return False\n",
    "\n",
    "# Example usage\n",
    "nums = [1, 2, 3, 1]\n",
    "result = Duplicate(nums)\n",
    "print(result)  # Output: True\n"
   ]
  },
  {
   "cell_type": "code",
   "execution_count": 19,
   "id": "90589003-891a-4836-ae75-fe9a40fca913",
   "metadata": {},
   "outputs": [
    {
     "name": "stdout",
     "output_type": "stream",
     "text": [
      "[1, 3, 12, 0, 0]\n"
     ]
    }
   ],
   "source": [
    "'''Q7. Given an integer array nums, move all 0's to the end of it while maintaining the relative order of the nonzero elements.Note that you must do this in-place without making a copy of the array.Example 1:\n",
    "Input: nums = [0,1,0,3,12]\n",
    "Output: [1,3,12,0,0]'''\n",
    "\n",
    "#Solution\n",
    "def shift_Zero(nums):\n",
    "    left = 0\n",
    "    right = 0\n",
    "\n",
    "    while right < len(nums):\n",
    "        if nums[right] != 0:\n",
    "            nums[left], nums[right] = nums[right], nums[left]\n",
    "            left += 1\n",
    "        right += 1\n",
    "\n",
    "    return nums\n",
    "\n",
    "# Example usage\n",
    "nums = [0, 1, 0, 3, 12]\n",
    "result = shift_Zero(nums)\n",
    "print(result)  # Output: [1, 3, 12, 0, 0]\n"
   ]
  },
  {
   "cell_type": "code",
   "execution_count": 17,
   "id": "c317e082-c452-4ded-bb4d-a45789509fd8",
   "metadata": {},
   "outputs": [
    {
     "name": "stdout",
     "output_type": "stream",
     "text": [
      "[2, 3]\n"
     ]
    }
   ],
   "source": [
    "'''Q8.You have a set of integers s, which originally contains all the numbers from 1 to n. Unfortunately, due to some error, one of the numbers in s got duplicated to another number in the set, \n",
    "which results in repetition of one number and loss of another number.You are given an integer array nums representing the data status of this set after the error.\n",
    "Find the number that occurs twice and the number that is missing and return them in the form of an array.\n",
    "**Example 1:**\n",
    "Input: nums = [1,2,2,4]\n",
    "Output: [2,3]'''\n",
    "\n",
    "#Solution\n",
    "\n",
    "def Error_nums(nums):\n",
    "    num_Set = set()\n",
    "    duplicate = -1\n",
    "    total_Sum = 0\n",
    "\n",
    "    for num in nums:\n",
    "        total_Sum += num\n",
    "        if num in num_Set:\n",
    "            duplicate = num\n",
    "        num_Set.add(num)\n",
    "\n",
    "    length = len(nums)\n",
    "    expected_Sum = (length * (length + 1)) // 2\n",
    "    missing = expected_Sum - total_Sum + duplicate\n",
    "\n",
    "    return [duplicate, missing]\n",
    "\n",
    "# Example usage\n",
    "nums = [1, 2, 2, 4]\n",
    "result = Error_nums(nums)\n",
    "print(result)  # Output: [2, 3]\n"
   ]
  },
  {
   "cell_type": "code",
   "execution_count": null,
   "id": "146dc83e-d7ae-4119-93f8-a489d00ebfe3",
   "metadata": {},
   "outputs": [],
   "source": []
  }
 ],
 "metadata": {
  "kernelspec": {
   "display_name": "Python 3 (ipykernel)",
   "language": "python",
   "name": "python3"
  },
  "language_info": {
   "codemirror_mode": {
    "name": "ipython",
    "version": 3
   },
   "file_extension": ".py",
   "mimetype": "text/x-python",
   "name": "python",
   "nbconvert_exporter": "python",
   "pygments_lexer": "ipython3",
   "version": "3.10.8"
  }
 },
 "nbformat": 4,
 "nbformat_minor": 5
}
